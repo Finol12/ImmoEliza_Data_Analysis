{
 "cells": [
  {
   "cell_type": "code",
   "execution_count": 19,
   "metadata": {},
   "outputs": [],
   "source": [
    "import numpy as np \n",
    "import pandas as pd\n",
    "from sklearn.model_selection import train_test_split\n",
    "from sklearn.linear_model import LinearRegression\n",
    "from sklearn.tree import DecisionTreeRegressor\n",
    "import xgboost as xgb\n",
    "from sklearn.metrics import r2_score"
   ]
  },
  {
   "cell_type": "code",
   "execution_count": 20,
   "metadata": {},
   "outputs": [],
   "source": [
    "# Read the original CSV file\n",
    "df = pd.read_csv(\"../data/cleaned_data.csv\")"
   ]
  },
  {
   "cell_type": "markdown",
   "metadata": {},
   "source": [
    "### Data Preprocessing:\n",
    "##### Boolean Conversion:\n",
    " Certain columns in the dataset represent boolean values, such as 'Swimming_pool', 'Garden', 'Terrace', 'Open Fire', and 'Furnished'. To facilitate further analysis and model building, we convert these boolean values to integers (0 for False and 1 for True) using the astype(int) method."
   ]
  },
  {
   "cell_type": "code",
   "execution_count": 21,
   "metadata": {},
   "outputs": [],
   "source": [
    "# Convert boolean columns to integers (0 for False and 1 for True)\n",
    "df['Swimming_pool'] = df['Swimming_pool'].astype(int)\n",
    "df['Garden'] = df['Garden'].astype(int)\n",
    "df['Terrace'] = df['Terrace'].astype(int)\n",
    "df['Open Fire'] = df['Open Fire'].astype(int)\n",
    "df['Furnished'] = df['Furnished'].astype(int)"
   ]
  },
  {
   "cell_type": "markdown",
   "metadata": {},
   "source": [
    "##### One-Hot Encoding:\n",
    " To handle categorical data, we apply one-hot encoding to the 'province' and 'District' columns. This transforms categorical variables into binary vectors, enabling the ML models to better interpret and use this information."
   ]
  },
  {
   "cell_type": "code",
   "execution_count": 22,
   "metadata": {},
   "outputs": [],
   "source": [
    "# Perform one-hot encoding for the 'province' and 'District' columns\n",
    "df = pd.get_dummies(df, columns=['province','District'])"
   ]
  },
  {
   "cell_type": "markdown",
   "metadata": {},
   "source": [
    "##### Separate DataFrames for Apartments and Houses:\n",
    "We split the dataset into two separate DataFrames: \"apartment_df\" and \"house_df\", containing information about apartments and houses, respectively."
   ]
  },
  {
   "cell_type": "code",
   "execution_count": 23,
   "metadata": {},
   "outputs": [],
   "source": [
    "# Filter and process apartment data\n",
    "apartment_df = df[df[\"Type\"] == \"apartment\"]\n",
    "columns_to_drop_apartment = ['URL','Listing_ID', 'Price_per_sqm','Type', 'Subtype','Listing_address','Postal_code', 'Locality', 'Kitchen','State of the building']\n",
    "apartment_df = apartment_df.drop(columns= columns_to_drop_apartment)\n",
    "apartment_df.to_csv('../data/apartment_df.csv', index=False)\n",
    "# Filter and process house data\n",
    "house_df = df[df[\"Type\"] == \"house\"]\n",
    "columns_to_drop_house =  ['URL', 'Listing_ID','Type', 'Price_per_sqm','Subtype','Listing_address','Postal_code', 'Locality', 'Kitchen','State of the building']\n",
    "house_df = house_df.drop(columns= columns_to_drop_house)\n",
    "house_df.to_csv('../data/house_df.csv', index=False)"
   ]
  },
  {
   "cell_type": "markdown",
   "metadata": {},
   "source": [
    "### Linear Regression Model\n",
    "In this section we utilize the Linear Regression model from the scikit-learn library to predict property prices based on various features. The process is broken down into the following steps:\n",
    "1. Data Preparation:\n",
    "Feature Matrix (X): We create the feature matrix X by dropping the target column (target_col) from the original DataFrame (df) and converting it to a NumPy array using the .to_numpy() method. The feature matrix contains the independent variables used for prediction.\n",
    "Target Vector (y): We create the target vector y by selecting the target_col from the original DataFrame and converting it to a NumPy array. The target vector contains the dependent variable, which is the property price to be predicted.\n",
    "2. Train-Test Split:\n",
    "The dataset is divided into training and testing sets using the train_test_split() function from the scikit-learn library. The split is performed with a specified test_size, which determines the proportion of data used for testing. The random_state parameter ensures reproducibility of the split.\n",
    "3. Linear Regression Model:\n",
    "We create an instance of the Linear Regression model (regressor) using the LinearRegression() class from scikit-learn. Linear Regression is a simple yet powerful algorithm that fits a linear equation to the data, making it suitable for predicting continuous values like property prices.\n",
    "\n",
    "4. Model Training:\n",
    "The Linear Regression model is trained using the training data (X_train and y_train) via the .fit() method. During training, the model learns the coefficients and intercepts that best fit the training data.\n",
    "\n",
    "5. Evaluation:\n",
    "The performance of the model is evaluated using the coefficient of determination (R-squared) on both the training and testing sets. The R-squared metric quantifies the proportion of variance in the target variable explained by the model. Higher R-squared values indicate better predictive performance.\n",
    "\n",
    "The results of the Linear Regression model training and evaluation are stored in train_score and test_score, respectively. These values are useful for assessing how well the model fits the data and its ability to generalize to unseen data.\n",
    "\n",
    "Please note that Linear Regression is a baseline model, and in the subsequent sections, we explore other advanced techniques such as Decision Tree Regression and XGBoost Regression to potentially improve the predictive performance for property prices."
   ]
  },
  {
   "cell_type": "code",
   "execution_count": 24,
   "metadata": {},
   "outputs": [
    {
     "name": "stdout",
     "output_type": "stream",
     "text": [
      "X shape :  (5975, 64)\n",
      "y shape :  (5975, 1)\n",
      "Shape of X_train:  (4780, 64)\n",
      "Shape of X_test:  (1195, 64)\n",
      "Shape of y_train:  (4780, 1)\n",
      "Shape of y_test:  (1195, 1)\n",
      "train_score_house:  0.439170242623662\n",
      "test_score_house:  0.4866060744559789\n"
     ]
    }
   ],
   "source": [
    "# linear regression For houses\n",
    "df = pd.read_csv(\"../data/house_df.csv\")\n",
    "X_house = df.drop(columns=[\"Price\"]).to_numpy()\n",
    "y_house = df.Price.to_numpy().reshape(-1 , 1)\n",
    "print(\"X shape : \", X_house.shape)\n",
    "print(\"y shape : \", y_house.shape)\n",
    "# Splitting the dataset(for house) into the Training set and Test set\n",
    "\n",
    "X_train, X_test, y_train, y_test = train_test_split(X_house, y_house, test_size=0.2, random_state=0)\n",
    "print(\"Shape of X_train: \", X_train.shape)\n",
    "print(\"Shape of X_test: \", X_test.shape)\n",
    "print(\"Shape of y_train: \", y_train.shape)\n",
    "print(\"Shape of y_test: \", y_test.shape)\n",
    "\n",
    "regressor = LinearRegression()\n",
    "regressor.fit(X_train,y_train)\n",
    "regressor.score(X_train, y_train)\n",
    "print(\"train_score_house: \", regressor.score(X_train, y_train))\n",
    "regressor.score(X_test, y_test)\n",
    "print(\"test_score_house: \", regressor.score(X_test, y_test))"
   ]
  },
  {
   "cell_type": "code",
   "execution_count": 25,
   "metadata": {},
   "outputs": [
    {
     "name": "stdout",
     "output_type": "stream",
     "text": [
      "X shape :  (3601, 64)\n",
      "y shape :  (3601, 1)\n",
      "Shape of X_train:  (2880, 64)\n",
      "Shape of X_test:  (721, 64)\n",
      "Shape of y_train:  (2880, 1)\n",
      "Shape of y_test:  (721, 1)\n",
      "train_score_apartment:  0.42964676022099213\n",
      "test_score_apartment:  0.3892493125485248\n"
     ]
    }
   ],
   "source": [
    "# linear regression For apartment\n",
    "df = pd.read_csv(\"../data/apartment_df.csv\")\n",
    "X = df.drop(columns=[\"Price\"]).to_numpy()\n",
    "y = df.Price.to_numpy().reshape(-1 , 1)\n",
    "print(\"X shape : \", X.shape)\n",
    "print(\"y shape : \", y.shape)\n",
    "X_train, X_test, y_train, y_test = train_test_split(X, y, test_size=0.2, random_state=0)\n",
    "print(\"Shape of X_train: \", X_train.shape)\n",
    "print(\"Shape of X_test: \", X_test.shape)\n",
    "print(\"Shape of y_train: \", y_train.shape)\n",
    "print(\"Shape of y_test: \", y_test.shape)\n",
    "regressor = LinearRegression()\n",
    "regressor.fit(X_train,y_train)\n",
    "regressor.score(X_train, y_train)\n",
    "print(\"train_score_apartment: \", regressor.score(X_train, y_train))\n",
    "regressor.score(X_test, y_test)\n",
    "print(\"test_score_apartment: \", regressor.score(X_test, y_test))"
   ]
  },
  {
   "cell_type": "markdown",
   "metadata": {},
   "source": []
  },
  {
   "cell_type": "markdown",
   "metadata": {},
   "source": [
    "#### Decision Tree Regression Model\n",
    "In this section we employ Decision Tree Regression models to predict property prices for apartments and houses. The process is broken down into the following steps:\n",
    "\n",
    "1. Model Creation:\n",
    "DecisionTreeRegressor Instances: We create separate instances of the DecisionTreeRegressor model for apartments and houses. The models are initialized with the DecisionTreeRegressor class from scikit-learn, and a random_state parameter is set to ensure reproducibility of the results.\n",
    "\n",
    "2. Model Training:\n",
    "Training Data: The Decision Tree models are trained using the training data specific to each type. For apartments, the feature matrix X_train_apartment and target vector y_train_apartment are used, while for houses, X_train_house and y_train_house are utilized.\n",
    "Model Fitting: The .fit() method is applied to each model with their respective training data. During training, the Decision Tree models recursively split the data based on different features to create a tree-like structure.\n",
    "\n",
    "3. Prediction:\n",
    "Test Data Prediction: The trained Decision Tree models are used to make predictions on the test data. For apartments, the feature matrix X_test_apartment is passed to the model, resulting in predicted prices stored in y_pred_apartment. Similarly, for houses, predictions are made using X_test_house, and the results are stored in y_pred_house.\n",
    "\n",
    "4. Evaluation:\n",
    "R-squared Calculation: The R-squared metric is calculated to assess the performance of the models. R-squared measures how well the model explains the variance in the target variable relative to the total variance. Higher R-squared values indicate better predictive performance.\n"
   ]
  },
  {
   "cell_type": "code",
   "execution_count": 26,
   "metadata": {},
   "outputs": [],
   "source": [
    "df = pd.read_csv(\"../data/apartment_df.csv\")\n",
    "X_apartment = apartment_df.drop(columns=[\"Price\"]).to_numpy()\n",
    "y_apartment = apartment_df[\"Price\"].to_numpy().reshape(-1, 1)\n",
    "df = pd.read_csv(\"../data/house_df.csv\")\n",
    "X_house = house_df.drop(columns=[\"Price\"]).to_numpy()\n",
    "y_house = house_df[\"Price\"].to_numpy().reshape(-1, 1)"
   ]
  },
  {
   "cell_type": "code",
   "execution_count": 27,
   "metadata": {},
   "outputs": [],
   "source": [
    "X_train_apartment, X_test_apartment, y_train_apartment, y_test_apartment = train_test_split(X_apartment, y_apartment, test_size=0.2, random_state=0)\n",
    "X_train_house, X_test_house, y_train_house, y_test_house = train_test_split(X_house, y_house, test_size=0.2, random_state=0)"
   ]
  },
  {
   "cell_type": "code",
   "execution_count": 28,
   "metadata": {},
   "outputs": [
    {
     "data": {
      "text/html": [
       "<style>#sk-container-id-3 {color: black;}#sk-container-id-3 pre{padding: 0;}#sk-container-id-3 div.sk-toggleable {background-color: white;}#sk-container-id-3 label.sk-toggleable__label {cursor: pointer;display: block;width: 100%;margin-bottom: 0;padding: 0.3em;box-sizing: border-box;text-align: center;}#sk-container-id-3 label.sk-toggleable__label-arrow:before {content: \"▸\";float: left;margin-right: 0.25em;color: #696969;}#sk-container-id-3 label.sk-toggleable__label-arrow:hover:before {color: black;}#sk-container-id-3 div.sk-estimator:hover label.sk-toggleable__label-arrow:before {color: black;}#sk-container-id-3 div.sk-toggleable__content {max-height: 0;max-width: 0;overflow: hidden;text-align: left;background-color: #f0f8ff;}#sk-container-id-3 div.sk-toggleable__content pre {margin: 0.2em;color: black;border-radius: 0.25em;background-color: #f0f8ff;}#sk-container-id-3 input.sk-toggleable__control:checked~div.sk-toggleable__content {max-height: 200px;max-width: 100%;overflow: auto;}#sk-container-id-3 input.sk-toggleable__control:checked~label.sk-toggleable__label-arrow:before {content: \"▾\";}#sk-container-id-3 div.sk-estimator input.sk-toggleable__control:checked~label.sk-toggleable__label {background-color: #d4ebff;}#sk-container-id-3 div.sk-label input.sk-toggleable__control:checked~label.sk-toggleable__label {background-color: #d4ebff;}#sk-container-id-3 input.sk-hidden--visually {border: 0;clip: rect(1px 1px 1px 1px);clip: rect(1px, 1px, 1px, 1px);height: 1px;margin: -1px;overflow: hidden;padding: 0;position: absolute;width: 1px;}#sk-container-id-3 div.sk-estimator {font-family: monospace;background-color: #f0f8ff;border: 1px dotted black;border-radius: 0.25em;box-sizing: border-box;margin-bottom: 0.5em;}#sk-container-id-3 div.sk-estimator:hover {background-color: #d4ebff;}#sk-container-id-3 div.sk-parallel-item::after {content: \"\";width: 100%;border-bottom: 1px solid gray;flex-grow: 1;}#sk-container-id-3 div.sk-label:hover label.sk-toggleable__label {background-color: #d4ebff;}#sk-container-id-3 div.sk-serial::before {content: \"\";position: absolute;border-left: 1px solid gray;box-sizing: border-box;top: 0;bottom: 0;left: 50%;z-index: 0;}#sk-container-id-3 div.sk-serial {display: flex;flex-direction: column;align-items: center;background-color: white;padding-right: 0.2em;padding-left: 0.2em;position: relative;}#sk-container-id-3 div.sk-item {position: relative;z-index: 1;}#sk-container-id-3 div.sk-parallel {display: flex;align-items: stretch;justify-content: center;background-color: white;position: relative;}#sk-container-id-3 div.sk-item::before, #sk-container-id-3 div.sk-parallel-item::before {content: \"\";position: absolute;border-left: 1px solid gray;box-sizing: border-box;top: 0;bottom: 0;left: 50%;z-index: -1;}#sk-container-id-3 div.sk-parallel-item {display: flex;flex-direction: column;z-index: 1;position: relative;background-color: white;}#sk-container-id-3 div.sk-parallel-item:first-child::after {align-self: flex-end;width: 50%;}#sk-container-id-3 div.sk-parallel-item:last-child::after {align-self: flex-start;width: 50%;}#sk-container-id-3 div.sk-parallel-item:only-child::after {width: 0;}#sk-container-id-3 div.sk-dashed-wrapped {border: 1px dashed gray;margin: 0 0.4em 0.5em 0.4em;box-sizing: border-box;padding-bottom: 0.4em;background-color: white;}#sk-container-id-3 div.sk-label label {font-family: monospace;font-weight: bold;display: inline-block;line-height: 1.2em;}#sk-container-id-3 div.sk-label-container {text-align: center;}#sk-container-id-3 div.sk-container {/* jupyter's `normalize.less` sets `[hidden] { display: none; }` but bootstrap.min.css set `[hidden] { display: none !important; }` so we also need the `!important` here to be able to override the default hidden behavior on the sphinx rendered scikit-learn.org. See: https://github.com/scikit-learn/scikit-learn/issues/21755 */display: inline-block !important;position: relative;}#sk-container-id-3 div.sk-text-repr-fallback {display: none;}</style><div id=\"sk-container-id-3\" class=\"sk-top-container\"><div class=\"sk-text-repr-fallback\"><pre>DecisionTreeRegressor(random_state=0)</pre><b>In a Jupyter environment, please rerun this cell to show the HTML representation or trust the notebook. <br />On GitHub, the HTML representation is unable to render, please try loading this page with nbviewer.org.</b></div><div class=\"sk-container\" hidden><div class=\"sk-item\"><div class=\"sk-estimator sk-toggleable\"><input class=\"sk-toggleable__control sk-hidden--visually\" id=\"sk-estimator-id-3\" type=\"checkbox\" checked><label for=\"sk-estimator-id-3\" class=\"sk-toggleable__label sk-toggleable__label-arrow\">DecisionTreeRegressor</label><div class=\"sk-toggleable__content\"><pre>DecisionTreeRegressor(random_state=0)</pre></div></div></div></div></div>"
      ],
      "text/plain": [
       "DecisionTreeRegressor(random_state=0)"
      ]
     },
     "execution_count": 28,
     "metadata": {},
     "output_type": "execute_result"
    }
   ],
   "source": [
    "# Create DecisionTreeRegressor instances\n",
    "dt_regressor_apartment = DecisionTreeRegressor(random_state=0)\n",
    "dt_regressor_house = DecisionTreeRegressor(random_state=0)\n",
    "\n",
    "# Fit the models to the training data\n",
    "dt_regressor_apartment.fit(X_train_apartment, y_train_apartment)\n",
    "dt_regressor_house.fit(X_train_house, y_train_house)"
   ]
  },
  {
   "cell_type": "code",
   "execution_count": 29,
   "metadata": {},
   "outputs": [
    {
     "name": "stdout",
     "output_type": "stream",
     "text": [
      "R-squared (Apartment): 0.28439580719960345\n",
      "R-squared (House): 0.4157044795354198\n"
     ]
    }
   ],
   "source": [
    "# Predict on the test data\n",
    "y_pred_apartment = dt_regressor_apartment.predict(X_test_apartment)\n",
    "y_pred_house = dt_regressor_house.predict(X_test_house)\n",
    "\n",
    "# Calculate R-squared for apartment and house models\n",
    "r2_apartment = r2_score(y_test_apartment, y_pred_apartment)\n",
    "r2_house = r2_score(y_test_house, y_pred_house)\n",
    "\n",
    "# Print the R-squared scores\n",
    "print(\"R-squared (Apartment):\", r2_apartment)\n",
    "print(\"R-squared (House):\", r2_house)"
   ]
  },
  {
   "cell_type": "markdown",
   "metadata": {},
   "source": [
    "##### XGBoost Regression Model\n",
    "In this section we implement XGBoost Regression models to predict property prices for apartments and houses. The process is broken down into the following steps:\n",
    "\n",
    "1. Model Creation:\n",
    "XGBoostRegressor Instances: We create separate instances of the XGBoostRegressor model for apartments and houses. The models are initialized using the xgb.XGBRegressor() class from the XGBoost library. XGBoost is an optimized and powerful gradient boosting algorithm designed for regression and classification tasks.\n",
    "\n",
    "2. Model Training:\n",
    "Training Data: The XGBoost Regression models are trained using the training data specific to each type. For apartments, the feature matrix X_train_apartment and target vector y_train_apartment are used, while for houses, X_train_house and y_train_house are utilized.\n",
    "Model Fitting: The .fit() method is applied to each model with their respective training data. During training, XGBoost applies gradient boosting, which sequentially adds weak learners (decision trees) to improve predictive accuracy.\n",
    "\n",
    "3. Prediction:\n",
    "Test Data Prediction: Using the trained XGBoost Regression models, we make predictions on the test data. For apartments, we pass the feature matrix X_test_apartment to the xgb_regressor_apartment model, which generates predicted prices stored in y_pred_apartment. Similarly, for houses, predictions are made using X_test_house, and the results are stored in y_pred_house.\n",
    "\n",
    "4. Evaluation:\n",
    "R-squared Calculation: The R-squared metric is used to evaluate the models' performance. R-squared measures how well the models explain the variance in the target variable relative to the total variance. Higher R-squared values indicate better predictive performance."
   ]
  },
  {
   "cell_type": "code",
   "execution_count": 30,
   "metadata": {},
   "outputs": [],
   "source": [
    "df = pd.read_csv(\"../data/apartment_df.csv\")\n",
    "X_apartment = apartment_df.drop(columns=[\"Price\"]).to_numpy()\n",
    "y_apartment = apartment_df[\"Price\"].to_numpy().reshape(-1, 1)\n",
    "df = pd.read_csv(\"../data/house_df.csv\")\n",
    "X_house = house_df.drop(columns=[\"Price\"]).to_numpy()\n",
    "y_house = house_df[\"Price\"].to_numpy().reshape(-1, 1)"
   ]
  },
  {
   "cell_type": "code",
   "execution_count": 31,
   "metadata": {},
   "outputs": [],
   "source": [
    "X_train_apartment, X_test_apartment, y_train_apartment, y_test_apartment = train_test_split(X_apartment, y_apartment, test_size=0.2, random_state=0)\n",
    "X_train_house, X_test_house, y_train_house, y_test_house = train_test_split(X_house, y_house, test_size=0.2, random_state=0)"
   ]
  },
  {
   "cell_type": "code",
   "execution_count": 32,
   "metadata": {},
   "outputs": [
    {
     "data": {
      "text/html": [
       "<style>#sk-container-id-4 {color: black;}#sk-container-id-4 pre{padding: 0;}#sk-container-id-4 div.sk-toggleable {background-color: white;}#sk-container-id-4 label.sk-toggleable__label {cursor: pointer;display: block;width: 100%;margin-bottom: 0;padding: 0.3em;box-sizing: border-box;text-align: center;}#sk-container-id-4 label.sk-toggleable__label-arrow:before {content: \"▸\";float: left;margin-right: 0.25em;color: #696969;}#sk-container-id-4 label.sk-toggleable__label-arrow:hover:before {color: black;}#sk-container-id-4 div.sk-estimator:hover label.sk-toggleable__label-arrow:before {color: black;}#sk-container-id-4 div.sk-toggleable__content {max-height: 0;max-width: 0;overflow: hidden;text-align: left;background-color: #f0f8ff;}#sk-container-id-4 div.sk-toggleable__content pre {margin: 0.2em;color: black;border-radius: 0.25em;background-color: #f0f8ff;}#sk-container-id-4 input.sk-toggleable__control:checked~div.sk-toggleable__content {max-height: 200px;max-width: 100%;overflow: auto;}#sk-container-id-4 input.sk-toggleable__control:checked~label.sk-toggleable__label-arrow:before {content: \"▾\";}#sk-container-id-4 div.sk-estimator input.sk-toggleable__control:checked~label.sk-toggleable__label {background-color: #d4ebff;}#sk-container-id-4 div.sk-label input.sk-toggleable__control:checked~label.sk-toggleable__label {background-color: #d4ebff;}#sk-container-id-4 input.sk-hidden--visually {border: 0;clip: rect(1px 1px 1px 1px);clip: rect(1px, 1px, 1px, 1px);height: 1px;margin: -1px;overflow: hidden;padding: 0;position: absolute;width: 1px;}#sk-container-id-4 div.sk-estimator {font-family: monospace;background-color: #f0f8ff;border: 1px dotted black;border-radius: 0.25em;box-sizing: border-box;margin-bottom: 0.5em;}#sk-container-id-4 div.sk-estimator:hover {background-color: #d4ebff;}#sk-container-id-4 div.sk-parallel-item::after {content: \"\";width: 100%;border-bottom: 1px solid gray;flex-grow: 1;}#sk-container-id-4 div.sk-label:hover label.sk-toggleable__label {background-color: #d4ebff;}#sk-container-id-4 div.sk-serial::before {content: \"\";position: absolute;border-left: 1px solid gray;box-sizing: border-box;top: 0;bottom: 0;left: 50%;z-index: 0;}#sk-container-id-4 div.sk-serial {display: flex;flex-direction: column;align-items: center;background-color: white;padding-right: 0.2em;padding-left: 0.2em;position: relative;}#sk-container-id-4 div.sk-item {position: relative;z-index: 1;}#sk-container-id-4 div.sk-parallel {display: flex;align-items: stretch;justify-content: center;background-color: white;position: relative;}#sk-container-id-4 div.sk-item::before, #sk-container-id-4 div.sk-parallel-item::before {content: \"\";position: absolute;border-left: 1px solid gray;box-sizing: border-box;top: 0;bottom: 0;left: 50%;z-index: -1;}#sk-container-id-4 div.sk-parallel-item {display: flex;flex-direction: column;z-index: 1;position: relative;background-color: white;}#sk-container-id-4 div.sk-parallel-item:first-child::after {align-self: flex-end;width: 50%;}#sk-container-id-4 div.sk-parallel-item:last-child::after {align-self: flex-start;width: 50%;}#sk-container-id-4 div.sk-parallel-item:only-child::after {width: 0;}#sk-container-id-4 div.sk-dashed-wrapped {border: 1px dashed gray;margin: 0 0.4em 0.5em 0.4em;box-sizing: border-box;padding-bottom: 0.4em;background-color: white;}#sk-container-id-4 div.sk-label label {font-family: monospace;font-weight: bold;display: inline-block;line-height: 1.2em;}#sk-container-id-4 div.sk-label-container {text-align: center;}#sk-container-id-4 div.sk-container {/* jupyter's `normalize.less` sets `[hidden] { display: none; }` but bootstrap.min.css set `[hidden] { display: none !important; }` so we also need the `!important` here to be able to override the default hidden behavior on the sphinx rendered scikit-learn.org. See: https://github.com/scikit-learn/scikit-learn/issues/21755 */display: inline-block !important;position: relative;}#sk-container-id-4 div.sk-text-repr-fallback {display: none;}</style><div id=\"sk-container-id-4\" class=\"sk-top-container\"><div class=\"sk-text-repr-fallback\"><pre>XGBRegressor(base_score=None, booster=None, callbacks=None,\n",
       "             colsample_bylevel=None, colsample_bynode=None,\n",
       "             colsample_bytree=None, early_stopping_rounds=None,\n",
       "             enable_categorical=False, eval_metric=None, feature_types=None,\n",
       "             gamma=None, gpu_id=None, grow_policy=None, importance_type=None,\n",
       "             interaction_constraints=None, learning_rate=None, max_bin=None,\n",
       "             max_cat_threshold=None, max_cat_to_onehot=None,\n",
       "             max_delta_step=None, max_depth=None, max_leaves=None,\n",
       "             min_child_weight=None, missing=nan, monotone_constraints=None,\n",
       "             n_estimators=100, n_jobs=None, num_parallel_tree=None,\n",
       "             predictor=None, random_state=None, ...)</pre><b>In a Jupyter environment, please rerun this cell to show the HTML representation or trust the notebook. <br />On GitHub, the HTML representation is unable to render, please try loading this page with nbviewer.org.</b></div><div class=\"sk-container\" hidden><div class=\"sk-item\"><div class=\"sk-estimator sk-toggleable\"><input class=\"sk-toggleable__control sk-hidden--visually\" id=\"sk-estimator-id-4\" type=\"checkbox\" checked><label for=\"sk-estimator-id-4\" class=\"sk-toggleable__label sk-toggleable__label-arrow\">XGBRegressor</label><div class=\"sk-toggleable__content\"><pre>XGBRegressor(base_score=None, booster=None, callbacks=None,\n",
       "             colsample_bylevel=None, colsample_bynode=None,\n",
       "             colsample_bytree=None, early_stopping_rounds=None,\n",
       "             enable_categorical=False, eval_metric=None, feature_types=None,\n",
       "             gamma=None, gpu_id=None, grow_policy=None, importance_type=None,\n",
       "             interaction_constraints=None, learning_rate=None, max_bin=None,\n",
       "             max_cat_threshold=None, max_cat_to_onehot=None,\n",
       "             max_delta_step=None, max_depth=None, max_leaves=None,\n",
       "             min_child_weight=None, missing=nan, monotone_constraints=None,\n",
       "             n_estimators=100, n_jobs=None, num_parallel_tree=None,\n",
       "             predictor=None, random_state=None, ...)</pre></div></div></div></div></div>"
      ],
      "text/plain": [
       "XGBRegressor(base_score=None, booster=None, callbacks=None,\n",
       "             colsample_bylevel=None, colsample_bynode=None,\n",
       "             colsample_bytree=None, early_stopping_rounds=None,\n",
       "             enable_categorical=False, eval_metric=None, feature_types=None,\n",
       "             gamma=None, gpu_id=None, grow_policy=None, importance_type=None,\n",
       "             interaction_constraints=None, learning_rate=None, max_bin=None,\n",
       "             max_cat_threshold=None, max_cat_to_onehot=None,\n",
       "             max_delta_step=None, max_depth=None, max_leaves=None,\n",
       "             min_child_weight=None, missing=nan, monotone_constraints=None,\n",
       "             n_estimators=100, n_jobs=None, num_parallel_tree=None,\n",
       "             predictor=None, random_state=None, ...)"
      ]
     },
     "execution_count": 32,
     "metadata": {},
     "output_type": "execute_result"
    }
   ],
   "source": [
    "# Create XGBoost regression instances\n",
    "xgb_regressor_apartment = xgb.XGBRegressor()\n",
    "xgb_regressor_house = xgb.XGBRegressor()\n",
    "\n",
    "# Fit the models to the training data\n",
    "xgb_regressor_apartment.fit(X_train_apartment, y_train_apartment)\n",
    "xgb_regressor_house.fit(X_train_house, y_train_house)"
   ]
  },
  {
   "cell_type": "code",
   "execution_count": 33,
   "metadata": {},
   "outputs": [
    {
     "name": "stdout",
     "output_type": "stream",
     "text": [
      "R-squared (Apartment): 0.3673625456224776\n",
      "R-squared (House): 0.6548866586000375\n"
     ]
    }
   ],
   "source": [
    "# Predict on the test data\n",
    "y_pred_apartment = xgb_regressor_apartment.predict(X_test_apartment)\n",
    "y_pred_house = xgb_regressor_house.predict(X_test_house)\n",
    "\n",
    "# Calculate R-squared for apartment and house models\n",
    "r2_apartment = r2_score(y_test_apartment, y_pred_apartment)\n",
    "r2_house = r2_score(y_test_house, y_pred_house)\n",
    "\n",
    "# Print the R-squared scores\n",
    "print(\"R-squared (Apartment):\", r2_apartment)\n",
    "print(\"R-squared (House):\", r2_house)\n"
   ]
  }
 ],
 "metadata": {
  "kernelspec": {
   "display_name": "project-env",
   "language": "python",
   "name": "python3"
  },
  "language_info": {
   "codemirror_mode": {
    "name": "ipython",
    "version": 3
   },
   "file_extension": ".py",
   "mimetype": "text/x-python",
   "name": "python",
   "nbconvert_exporter": "python",
   "pygments_lexer": "ipython3",
   "version": "3.11.4"
  },
  "orig_nbformat": 4
 },
 "nbformat": 4,
 "nbformat_minor": 2
}
